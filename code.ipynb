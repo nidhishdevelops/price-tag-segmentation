{
 "cells": [
  {
   "cell_type": "code",
   "execution_count": 1,
   "metadata": {},
   "outputs": [],
   "source": [
    "import cv2\n",
    "img = cv2.imread('assignment-2.jpg')"
   ]
  },
  {
   "cell_type": "code",
   "execution_count": null,
   "metadata": {},
   "outputs": [],
   "source": [
    "cv2.imshow('Image',img)\n",
    "cv2.waitKey(0)\n",
    "cv2.destroyAllWindows()"
   ]
  },
  {
   "cell_type": "code",
   "execution_count": 2,
   "metadata": {},
   "outputs": [],
   "source": [
    "rows,col,channel = img.shape"
   ]
  },
  {
   "cell_type": "code",
   "execution_count": 4,
   "metadata": {},
   "outputs": [
    {
     "name": "stdout",
     "output_type": "stream",
     "text": [
      "Pixels Horizontally : 700\n",
      "Pixels Vertically: 990\n"
     ]
    }
   ],
   "source": [
    "print(f'Pixels Horizontally : {col}')\n",
    "print(f'Pixels Vertically: {rows}')"
   ]
  },
  {
   "cell_type": "markdown",
   "metadata": {},
   "source": [
    "#### __Removing the Border__ - Trial and Error Process\n",
    "##### It is an important step because it avoids loss of pixels and gives even spacing to the indiviual price tag."
   ]
  },
  {
   "cell_type": "code",
   "execution_count": 84,
   "metadata": {},
   "outputs": [
    {
     "data": {
      "text/plain": [
       "True"
      ]
     },
     "execution_count": 84,
     "metadata": {},
     "output_type": "execute_result"
    }
   ],
   "source": [
    "cropped_img = img[21:984,15:687]\n",
    "cv2.imwrite('img.png',cropped_img)\n"
   ]
  },
  {
   "cell_type": "code",
   "execution_count": 85,
   "metadata": {},
   "outputs": [
    {
     "name": "stdout",
     "output_type": "stream",
     "text": [
      "Pixels Horizontally : 672\n",
      "Pixels Vertically: 963\n"
     ]
    }
   ],
   "source": [
    "image = cv2.imread('img.png')\n",
    "cropped_rows,cropped_col,cropped_channel = image.shape\n",
    "print(f'Pixels Horizontally : {cropped_col}')\n",
    "print(f'Pixels Vertically: {cropped_rows}')"
   ]
  },
  {
   "cell_type": "code",
   "execution_count": 129,
   "metadata": {},
   "outputs": [],
   "source": [
    "import os\n",
    "output_dir = './image_tag/'\n",
    "os.makedirs(output_dir,exist_ok=True)"
   ]
  },
  {
   "cell_type": "markdown",
   "metadata": {},
   "source": [
    "#### __Double For loop logic:__ It will cut the complete image row-wise and column-wise and will give price tag sequentially "
   ]
  },
  {
   "cell_type": "code",
   "execution_count": 130,
   "metadata": {},
   "outputs": [],
   "source": [
    "cols = 3\n",
    "rows = 6\n",
    "counter = 1\n",
    "row_height = 160\n",
    "col_width = 223\n",
    "for i in range(rows):\n",
    "    row_start = row_height*(i)\n",
    "    row_end = row_height*(i+1)\n",
    "    for j in range(cols):\n",
    "        col_start = col_width*(j)\n",
    "        col_end = col_width*(j+1)\n",
    "        cropped_final_img = image[row_start:row_end,col_start:col_end]\n",
    "        filename = f'image_tag{counter}.png'\n",
    "        filepath = os.path.join(output_dir,filename)\n",
    "        cv2.imwrite(filepath,cropped_final_img)\n",
    "        counter +=1  \n",
    "\n",
    "\n"
   ]
  },
  {
   "cell_type": "code",
   "execution_count": null,
   "metadata": {},
   "outputs": [],
   "source": []
  }
 ],
 "metadata": {
  "kernelspec": {
   "display_name": "cv_live",
   "language": "python",
   "name": "python3"
  },
  "language_info": {
   "codemirror_mode": {
    "name": "ipython",
    "version": 3
   },
   "file_extension": ".py",
   "mimetype": "text/x-python",
   "name": "python",
   "nbconvert_exporter": "python",
   "pygments_lexer": "ipython3",
   "version": "3.11.10"
  }
 },
 "nbformat": 4,
 "nbformat_minor": 2
}
